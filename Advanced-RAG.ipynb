{
 "cells": [
  {
   "cell_type": "markdown",
   "metadata": {},
   "source": [
    "# Advanced retrieval"
   ]
  },
  {
   "cell_type": "markdown",
   "metadata": {},
   "source": [
    "## Utils"
   ]
  },
  {
   "cell_type": "code",
   "execution_count": 28,
   "metadata": {},
   "outputs": [],
   "source": [
    "import chromadb\n",
    "\n",
    "from langchain.text_splitter import RecursiveCharacterTextSplitter, SentenceTransformersTokenTextSplitter\n",
    "import numpy as np\n",
    "from pypdf import PdfReader\n",
    "import tqdm \n",
    "\n",
    "\n",
    "def _read_pdf(filename):\n",
    "    reader = PdfReader(filename)\n",
    "    \n",
    "    pdf_texts = [p.extract_text().strip() for p in reader.pages]\n",
    "\n",
    "    # Filter the empty strings\n",
    "    pdf_texts = [text for text in pdf_texts if text]\n",
    "    return pdf_texts\n",
    "\n",
    "\n",
    "def _chunk_texts(texts):\n",
    "    character_splitter = RecursiveCharacterTextSplitter(\n",
    "        separators=[\"\\n\\n\", \"\\n\", \". \", \" \", \"\"],\n",
    "        chunk_size=1000,\n",
    "        chunk_overlap=0\n",
    "    )\n",
    "    character_split_texts = character_splitter.split_text('\\n\\n'.join(texts))\n",
    "\n",
    "    token_splitter = SentenceTransformersTokenTextSplitter(chunk_overlap=0, tokens_per_chunk=256)\n",
    "\n",
    "    token_split_texts = []\n",
    "    for text in character_split_texts:\n",
    "        token_split_texts += token_splitter.split_text(text)\n",
    "\n",
    "    return token_split_texts\n",
    "\n",
    "\n",
    "def load_chroma(filename, collection_name, embedding_function):\n",
    "    texts = _read_pdf(filename)\n",
    "    chunks = _chunk_texts(texts)\n",
    "\n",
    "    chroma_cliet = chromadb.Client()\n",
    "    chroma_collection = chroma_cliet.create_collection(name=collection_name, embedding_function=embedding_function)\n",
    "\n",
    "    ids = [str(i) for i in range(len(chunks))]\n",
    "\n",
    "    chroma_collection.add(ids=ids, documents=chunks)\n",
    "\n",
    "    return chroma_collection\n",
    "\n",
    "def word_wrap(string, n_chars=72):\n",
    "    # Wrap a string at the next space after n_chars\n",
    "    if len(string) < n_chars:\n",
    "        return string\n",
    "    else:\n",
    "        return string[:n_chars].rsplit(' ', 1)[0] + '\\n' + word_wrap(string[len(string[:n_chars].rsplit(' ', 1)[0])+1:], n_chars)\n",
    "\n",
    "   \n",
    "def project_embeddings(embeddings, umap_transform):\n",
    "    umap_embeddings = np.empty((len(embeddings),2))\n",
    "    for i, embedding in enumerate(tqdm(embeddings)): \n",
    "        umap_embeddings[i] = umap_transform.transform([embedding])\n",
    "    return umap_embeddings"
   ]
  },
  {
   "cell_type": "markdown",
   "metadata": {},
   "source": [
    "## Creating and loading collection"
   ]
  },
  {
   "cell_type": "code",
   "execution_count": 30,
   "metadata": {},
   "outputs": [
    {
     "data": {
      "text/plain": [
       "10"
      ]
     },
     "execution_count": 30,
     "metadata": {},
     "output_type": "execute_result"
    }
   ],
   "source": [
    "from chromadb.utils.embedding_functions import SentenceTransformerEmbeddingFunction\n",
    "from utils import load_chroma\n",
    "embedding_function = SentenceTransformerEmbeddingFunction()\n",
    "\n",
    "chroma_collection = load_chroma(filename='data/microsoft_annual_report_2022.pdf', \n",
    "                                collection_name='micro', \n",
    "                                embedding_function=embedding_function)\n",
    "chroma_collection.count()"
   ]
  },
  {
   "cell_type": "code",
   "execution_count": 31,
   "metadata": {},
   "outputs": [
    {
     "name": "stderr",
     "output_type": "stream",
     "text": [
      "/home/shuaib/.local/lib/python3.10/site-packages/umap/umap_.py:1945: UserWarning: n_jobs value 1 overridden to 1 by setting random_state. Use no seed for parallelism.\n",
      "  warn(f\"n_jobs value {self.n_jobs} overridden to 1 by setting random_state. Use no seed for parallelism.\")\n",
      "/home/shuaib/.local/lib/python3.10/site-packages/umap/umap_.py:2437: UserWarning: n_neighbors is larger than the dataset size; truncating to X.shape[0] - 1\n",
      "  warn(\n"
     ]
    }
   ],
   "source": [
    "import umap as umap\n",
    "import numpy as np\n",
    "from tqdm import tqdm\n",
    "\n",
    "embeddings = chroma_collection.get(include=['embeddings'])['embeddings']\n",
    "umap_transform = umap.UMAP(random_state=0, transform_seed=0).fit(embeddings)"
   ]
  },
  {
   "cell_type": "code",
   "execution_count": 32,
   "metadata": {},
   "outputs": [
    {
     "name": "stderr",
     "output_type": "stream",
     "text": [
      "100%|██████████| 10/10 [00:12<00:00,  1.21s/it]\n"
     ]
    }
   ],
   "source": [
    "def project_embeddings(embeddings, umap_transform):\n",
    "    umap_embeddings = np.empty((len(embeddings),2))\n",
    "    for i, embedding in enumerate(tqdm(embeddings)): \n",
    "        umap_embeddings[i] = umap_transform.transform([embedding])\n",
    "    return umap_embeddings   \n",
    "projected_dataset_embeddings = project_embeddings(embeddings, umap_transform)"
   ]
  },
  {
   "cell_type": "code",
   "execution_count": 33,
   "metadata": {},
   "outputs": [
    {
     "name": "stdout",
     "output_type": "stream",
     "text": [
      "along with twenty - seven members of the european union, including\n",
      "france, germany, italy, as well as countries like the united kingdom,\n",
      "canada, japan, korea, australia, new zealand, and many others, even\n",
      "switzerland. we are inflicting pain on russia and sup porting the\n",
      "people of ukraine. putin is now isolated from the world more than ever.\n",
      "together with our allies, we are right now enforcing powerful economic\n",
      "sanctions. we are cutting off russia ’ s largest banks from the\n",
      "international financial system. preventing russia ’ s central bank from\n",
      "defending the russian ruble, making putin ’ s $ 630 bill ion “ war fund\n",
      "” worthless. we are choking off russia ’ s access to technology that\n",
      "will sap its economic strength and weaken its military for years to\n",
      "come. tonight i say to the russian oligarchs and corrupt leaders who\n",
      "have bilked billions of dollars off this violent regime : no more. the\n",
      "u. s. department of justice is assembling a dedicated task force to go\n",
      "after\n",
      "\n",
      "to all americans, i will be honest with you, as i ’ ve always promised.\n",
      "a russian dictator, invading a foreign country, has costs around the\n",
      "world. and i ’ m taking robust action to make sure the pain of our\n",
      "sanctions is targeted at russia ’ s economy. and i wil l use every tool\n",
      "at our disposal to protect american businesses and consumers. tonight,\n",
      "i can announce that the united states has worked with 30 other\n",
      "countries to release 60 million barrels of oil from reserves around the\n",
      "world. america will lead that effort, releasing 30 million barrels from\n",
      "our own strategic petroleum reserve. and we stand ready to do more if\n",
      "necessary, unified with our allies. these steps will help blunt gas\n",
      "prices here at home. and i know the news about what ’ s happening can\n",
      "seem alarming. but i want you to know that we are going to be okay.\n",
      "when the history of this era is written putin ’ s war on ukraine will\n",
      "have left russia weaker and the rest of\n",
      "\n",
      "the crimes of russian oligarchs. we are joining with our european\n",
      "allies to find and seize your yachts, your luxury apartments, your\n",
      "private jets. we are coming for your ill - begotten gains. and tonight\n",
      "i am announcing that we will join our allies in closing off american\n",
      "airspace to all russian flights – further isolating russia – and adding\n",
      "an additional squeeze on their economy. the ruble has lost 30 % of its\n",
      "value. the russian stock market h as lost 40 % of its value and trading\n",
      "remains suspended. russia ’ s economy is reeling and putin alone is to\n",
      "blame. together with our allies, we are providing support to the\n",
      "ukrainians in their fight for freedom. military assistance. economic\n",
      "assistance. humanitarian assistance. we are giving more than $ 1\n",
      "billion in direct assistance to ukraine. and we will continue to aid\n",
      "the ukrainian people as they defend their country and to help ease\n",
      "their suffering.\n",
      "\n",
      "groups of citizens blocking tanks with their bodies. everyone from\n",
      "students to retirees, teachers turned soldiers defending their\n",
      "homeland. in this struggle, as president zelenskyy said in his speech\n",
      "to the european parliament, “ light will win over darknes s. ” the\n",
      "ukrainian ambassador to the united states is here tonight. let each of\n",
      "us here tonight in this chamber send an unmistakable signal to ukraine\n",
      "and to the world. please rise if you are able and show that, yes, we\n",
      "the united states of america stand with the ukrainian people.\n",
      "throughout our history, we ’ ve learned this lesson : when dictators do\n",
      "not pay a price for their aggression, they cause more chaos. they keep\n",
      "mov ing. and the costs and the threats to america and the world keep\n",
      "rising. that ’ s why the nato alliance was created to secure peace and\n",
      "stability in europe after world war 2. the united states is a member,\n",
      "along with 29 other nations. it matters. american diplomacy matters.\n",
      "\n",
      "american resolve matters. putin ’ s latest attack on ukrai ne was\n",
      "premeditated and unprovoked. he rejected repeated efforts at diplomacy.\n",
      "he thought the west and nato wouldn ’ t respond. and he thought he\n",
      "could divide us at home. putin was wrong. we were ready. here is what\n",
      "we did. we prepared extensively and carefully. we spent months building\n",
      "a coalition of other freedom - loving nations from europe and the\n",
      "americas to asia and africa to confront putin. i spent countless hours\n",
      "unifying our european allies. we shared with the world in advance what\n",
      "we knew putin was planning and precisely how he would try to falsely\n",
      "justify his aggression. we countered russia ’ s lies with truth. and\n",
      "now that he has acted, the free world is holding him accountable.\n",
      "\n"
     ]
    }
   ],
   "source": [
    "query = \"What investments were made in research and development\"\n",
    "\n",
    "results = chroma_collection.query(query_texts=query, n_results=5, include=['documents', 'embeddings'])\n",
    "\n",
    "retrieved_documents = results['documents'][0]\n",
    "\n",
    "for document in results['documents'][0]:\n",
    "    print(word_wrap(document))\n",
    "    print('')"
   ]
  },
  {
   "cell_type": "code",
   "execution_count": 34,
   "metadata": {},
   "outputs": [
    {
     "name": "stderr",
     "output_type": "stream",
     "text": [
      "100%|██████████| 1/1 [00:01<00:00,  1.29s/it]\n",
      "100%|██████████| 5/5 [00:06<00:00,  1.25s/it]\n"
     ]
    }
   ],
   "source": [
    "query_embedding = embedding_function([query])[0]\n",
    "retrieved_embeddings = results['embeddings'][0]\n",
    "\n",
    "projected_query_embedding = project_embeddings([query_embedding], umap_transform)\n",
    "projected_retrieved_embeddings = project_embeddings(retrieved_embeddings, umap_transform)\n"
   ]
  },
  {
   "cell_type": "code",
   "execution_count": 35,
   "metadata": {},
   "outputs": [
    {
     "data": {
      "text/plain": [
       "(13.972675943374634, 18.821060514450075, 8.476618766784668, 13.270991325378418)"
      ]
     },
     "execution_count": 35,
     "metadata": {},
     "output_type": "execute_result"
    },
    {
     "data": {
      "image/png": "[encoded data removed]",
      "text/plain": [
       "<Figure size 640x480 with 1 Axes>"
      ]
     },
     "metadata": {},
     "output_type": "display_data"
    }
   ],
   "source": [
    "import matplotlib.pyplot as plt\n",
    "plt.figure()\n",
    "plt.scatter(projected_dataset_embeddings[:, 0], projected_dataset_embeddings[:, 1], s=10, color='gray')\n",
    "plt.scatter(projected_query_embedding[:, 0], projected_query_embedding[:, 1], s=150, marker='X', color='r')\n",
    "plt.scatter(projected_retrieved_embeddings[:, 0], projected_retrieved_embeddings[:, 1], s=100, facecolors='none', edgecolors='g')\n",
    "\n",
    "plt.gca().set_aspect('equal', 'datalim')\n",
    "plt.title(f'{query}')\n",
    "plt.axis('off')"
   ]
  },
  {
   "cell_type": "markdown",
   "metadata": {},
   "source": [
    "# Query Expansion"
   ]
  },
  {
   "cell_type": "markdown",
   "metadata": {},
   "source": [
    "## Expansion with Generated Answer"
   ]
  },
  {
   "cell_type": "code",
   "execution_count": 36,
   "metadata": {},
   "outputs": [],
   "source": [
    "prompt = \"\"\"You are a helpful expert financial research assistant. Provide an example answer to the given question, \\\n",
    "        that might be found in a document like an annual report of Microsoft. keep it very simple and generic\n",
    "        Question: {query}\"\"\"\n",
    "query=\"Was there significant turnover in the executive team?\"\n",
    "generate_answer_prompt= prompt.format(query=query)"
   ]
  },
  {
   "cell_type": "code",
   "execution_count": 37,
   "metadata": {},
   "outputs": [],
   "source": [
    "import google.generativeai as genai\n",
    "import streamlit as st\n",
    "genai.configure(api_key = st.secrets[\"GEMINI_API_KEY\"] )\n",
    "model = genai.GenerativeModel('gemini-pro')\n",
    "answer = model.generate_content(generate_answer_prompt)\n",
    "hypothetical_answer=answer.text"
   ]
  },
  {
   "cell_type": "code",
   "execution_count": 38,
   "metadata": {},
   "outputs": [
    {
     "name": "stdout",
     "output_type": "stream",
     "text": [
      "Was there significant turnover in the executive team? **Annual Report\n",
      "Excerpt:**\n",
      "\n",
      "**Executive Turnover**\n",
      "\n",
      "During the fiscal year, [number]\n",
      "executives departed the company. This represents a turnover rate of\n",
      "approximately [percentage]%. The reasons for departure included [list\n",
      "of reasons]. The company has taken steps to fill these vacancies and\n",
      "remains committed to maintaining a strong and experienced executive\n",
      "team.\n"
     ]
    }
   ],
   "source": [
    "joint_query = f\"{query} {hypothetical_answer}\"\n",
    "print(word_wrap(joint_query))"
   ]
  },
  {
   "cell_type": "code",
   "execution_count": 39,
   "metadata": {},
   "outputs": [
    {
     "name": "stdout",
     "output_type": "stream",
     "text": [
      "the crimes of russian oligarchs. we are joining with our european\n",
      "allies to find and seize your yachts, your luxury apartments, your\n",
      "private jets. we are coming for your ill - begotten gains. and tonight\n",
      "i am announcing that we will join our allies in closing off american\n",
      "airspace to all russian flights – further isolating russia – and adding\n",
      "an additional squeeze on their economy. the ruble has lost 30 % of its\n",
      "value. the russian stock market h as lost 40 % of its value and trading\n",
      "remains suspended. russia ’ s economy is reeling and putin alone is to\n",
      "blame. together with our allies, we are providing support to the\n",
      "ukrainians in their fight for freedom. military assistance. economic\n",
      "assistance. humanitarian assistance. we are giving more than $ 1\n",
      "billion in direct assistance to ukraine. and we will continue to aid\n",
      "the ukrainian people as they defend their country and to help ease\n",
      "their suffering.\n",
      "\n",
      "let me be clear, our forces are not engaged and will not engage in\n",
      "conflict with russian forces in ukraine. our forces are not going to\n",
      "europe to fight in ukraine, but to defend our nato allies – in the\n",
      "event that putin decides to keep moving west. for tha t purpose, we ’\n",
      "ve mobilized american ground forces, air squadrons, and ship\n",
      "deployments to protect nato countries including poland, romania,\n",
      "latvia, lithuania, and estonia. as i have made crystal clear, the\n",
      "united states and our allies will defend every inch of territory of\n",
      "nato countries with the full force of our collective power. and we\n",
      "remain clear - eyed. the ukrainians are fighting back with pure\n",
      "courage. but the next few days, weeks, months, will be hard on them.\n",
      "putin has unleashed violence and chaos. but while he may make gains on\n",
      "the battlefield – he will pay a continuing high price over the long\n",
      "run. and a proud ukrainian people, who have known 30 years of\n",
      "independenc e,\n",
      "\n",
      "we meet tonight in an america that has lived through two of the hardest\n",
      "years this nation has ever faced. the pandemic has been punishing.\n",
      "\n",
      "groups of citizens blocking tanks with their bodies. everyone from\n",
      "students to retirees, teachers turned soldiers defending their\n",
      "homeland. in this struggle, as president zelenskyy said in his speech\n",
      "to the european parliament, “ light will win over darknes s. ” the\n",
      "ukrainian ambassador to the united states is here tonight. let each of\n",
      "us here tonight in this chamber send an unmistakable signal to ukraine\n",
      "and to the world. please rise if you are able and show that, yes, we\n",
      "the united states of america stand with the ukrainian people.\n",
      "throughout our history, we ’ ve learned this lesson : when dictators do\n",
      "not pay a price for their aggression, they cause more chaos. they keep\n",
      "mov ing. and the costs and the threats to america and the world keep\n",
      "rising. that ’ s why the nato alliance was created to secure peace and\n",
      "stability in europe after world war 2. the united states is a member,\n",
      "along with 29 other nations. it matters. american diplomacy matters.\n",
      "\n",
      "along with twenty - seven members of the european union, including\n",
      "france, germany, italy, as well as countries like the united kingdom,\n",
      "canada, japan, korea, australia, new zealand, and many others, even\n",
      "switzerland. we are inflicting pain on russia and sup porting the\n",
      "people of ukraine. putin is now isolated from the world more than ever.\n",
      "together with our allies, we are right now enforcing powerful economic\n",
      "sanctions. we are cutting off russia ’ s largest banks from the\n",
      "international financial system. preventing russia ’ s central bank from\n",
      "defending the russian ruble, making putin ’ s $ 630 bill ion “ war fund\n",
      "” worthless. we are choking off russia ’ s access to technology that\n",
      "will sap its economic strength and weaken its military for years to\n",
      "come. tonight i say to the russian oligarchs and corrupt leaders who\n",
      "have bilked billions of dollars off this violent regime : no more. the\n",
      "u. s. department of justice is assembling a dedicated task force to go\n",
      "after\n",
      "\n"
     ]
    }
   ],
   "source": [
    "results = chroma_collection.query(query_texts=joint_query, n_results=5, include=['documents', 'embeddings'])\n",
    "retrieved_documents = results['documents'][0]\n",
    "\n",
    "for doc in retrieved_documents:\n",
    "    print(word_wrap(doc)) \n",
    "    print('')"
   ]
  },
  {
   "cell_type": "code",
   "execution_count": 40,
   "metadata": {},
   "outputs": [
    {
     "name": "stderr",
     "output_type": "stream",
     "text": [
      "100%|██████████| 1/1 [00:01<00:00,  1.26s/it]\n",
      "100%|██████████| 1/1 [00:01<00:00,  1.24s/it]\n",
      "100%|██████████| 5/5 [00:07<00:00,  1.51s/it]\n"
     ]
    }
   ],
   "source": [
    "retrieved_embeddings = results['embeddings'][0]\n",
    "original_query_embedding = embedding_function([query])\n",
    "augmented_query_embedding = embedding_function([joint_query])\n",
    "\n",
    "projected_original_query_embedding = project_embeddings(original_query_embedding, umap_transform)\n",
    "projected_augmented_query_embedding = project_embeddings(augmented_query_embedding, umap_transform)\n",
    "projected_retrieved_embeddings = project_embeddings(retrieved_embeddings, umap_transform)"
   ]
  },
  {
   "cell_type": "code",
   "execution_count": 41,
   "metadata": {},
   "outputs": [
    {
     "data": {
      "text/plain": [
       "(13.972675943374634, 18.821060514450075, 8.429567956924439, 13.273231840133667)"
      ]
     },
     "execution_count": 41,
     "metadata": {},
     "output_type": "execute_result"
    },
    {
     "data": {
      "image/png": "[encoded data removed]",
      "text/plain": [
       "<Figure size 640x480 with 1 Axes>"
      ]
     },
     "metadata": {},
     "output_type": "display_data"
    }
   ],
   "source": [
    "import matplotlib.pyplot as plt\n",
    "\n",
    "# Plot the projected query and retrieved documents in the embedding space\n",
    "plt.figure()\n",
    "plt.scatter(projected_dataset_embeddings[:, 0], projected_dataset_embeddings[:, 1], s=10, color='gray')\n",
    "plt.scatter(projected_retrieved_embeddings[:, 0], projected_retrieved_embeddings[:, 1], s=100, facecolors='none', edgecolors='g')\n",
    "plt.scatter(projected_original_query_embedding[:, 0], projected_original_query_embedding[:, 1], s=150, marker='X', color='r')\n",
    "plt.scatter(projected_augmented_query_embedding[:, 0], projected_augmented_query_embedding[:, 1], s=150, marker='X', color='orange')\n",
    "\n",
    "plt.gca().set_aspect('equal', 'datalim') \n",
    "plt.title(f'{query}')   \n",
    "plt.axis('off')"
   ]
  },
  {
   "cell_type": "markdown",
   "metadata": {},
   "source": [
    "## Multi Query"
   ]
  },
  {
   "cell_type": "code",
   "execution_count": 42,
   "metadata": {},
   "outputs": [],
   "source": [
    "def augment_multiple_query(query, model='gemini-pro'):\n",
    "    prompt =\"\"\"Suggest up to five additional related questions to help them find the information they need, for the provided question. \\\n",
    "            Suggest only short questions without compound sentences. Suggest a variety of questions that cover different aspects of the topic.\\\n",
    "            Make sure they are complete questions, and that they are related to the original question.\\\n",
    "            Output one question per line. Do not number the questions.\n",
    "            Query: {query}\"\"\"\n",
    "    model = genai.GenerativeModel('gemini-pro')\n",
    "    generate_multi_query=prompt.format(query=query)\n",
    "    answer = model.generate_content(generate_multi_query)\n",
    "    content = answer.text\n",
    "    content = content.split(\"\\n\")\n",
    "    return content"
   ]
  },
  {
   "cell_type": "code",
   "execution_count": 43,
   "metadata": {},
   "outputs": [
    {
     "name": "stdout",
     "output_type": "stream",
     "text": [
      "- What specific products or services drove the highest revenue growth?\n",
      "- Did changes in market conditions play a significant role in revenue increases?\n",
      "- How did pricing strategies impact revenue performance?\n",
      "- What operational improvements contributed to cost savings and increased profitability?\n"
     ]
    }
   ],
   "source": [
    "original_query = \"What were the most important factors that contributed to increases in revenue?\"\n",
    "augmented_queries = augment_multiple_query(original_query)\n",
    "\n",
    "for query in augmented_queries:\n",
    "    print(query)"
   ]
  },
  {
   "cell_type": "code",
   "execution_count": 44,
   "metadata": {},
   "outputs": [
    {
     "name": "stdout",
     "output_type": "stream",
     "text": [
      "Query: What were the most important factors that contributed to increases in revenue?\n",
      "\n",
      "Results:\n",
      "the crimes of russian oligarchs. we are joining with our european\n",
      "allies to find and seize your yachts, your luxury apartments, your\n",
      "private jets. we are coming for your ill - begotten gains. and tonight\n",
      "i am announcing that we will join our allies in closing off american\n",
      "airspace to all russian flights – further isolating russia – and adding\n",
      "an additional squeeze on their economy. the ruble has lost 30 % of its\n",
      "value. the russian stock market h as lost 40 % of its value and trading\n",
      "remains suspended. russia ’ s economy is reeling and putin alone is to\n",
      "blame. together with our allies, we are providing support to the\n",
      "ukrainians in their fight for freedom. military assistance. economic\n",
      "assistance. humanitarian assistance. we are giving more than $ 1\n",
      "billion in direct assistance to ukraine. and we will continue to aid\n",
      "the ukrainian people as they defend their country and to help ease\n",
      "their suffering.\n",
      "\n",
      "to all americans, i will be honest with you, as i ’ ve always promised.\n",
      "a russian dictator, invading a foreign country, has costs around the\n",
      "world. and i ’ m taking robust action to make sure the pain of our\n",
      "sanctions is targeted at russia ’ s economy. and i wil l use every tool\n",
      "at our disposal to protect american businesses and consumers. tonight,\n",
      "i can announce that the united states has worked with 30 other\n",
      "countries to release 60 million barrels of oil from reserves around the\n",
      "world. america will lead that effort, releasing 30 million barrels from\n",
      "our own strategic petroleum reserve. and we stand ready to do more if\n",
      "necessary, unified with our allies. these steps will help blunt gas\n",
      "prices here at home. and i know the news about what ’ s happening can\n",
      "seem alarming. but i want you to know that we are going to be okay.\n",
      "when the history of this era is written putin ’ s war on ukraine will\n",
      "have left russia weaker and the rest of\n",
      "\n",
      "along with twenty - seven members of the european union, including\n",
      "france, germany, italy, as well as countries like the united kingdom,\n",
      "canada, japan, korea, australia, new zealand, and many others, even\n",
      "switzerland. we are inflicting pain on russia and sup porting the\n",
      "people of ukraine. putin is now isolated from the world more than ever.\n",
      "together with our allies, we are right now enforcing powerful economic\n",
      "sanctions. we are cutting off russia ’ s largest banks from the\n",
      "international financial system. preventing russia ’ s central bank from\n",
      "defending the russian ruble, making putin ’ s $ 630 bill ion “ war fund\n",
      "” worthless. we are choking off russia ’ s access to technology that\n",
      "will sap its economic strength and weaken its military for years to\n",
      "come. tonight i say to the russian oligarchs and corrupt leaders who\n",
      "have bilked billions of dollars off this violent regime : no more. the\n",
      "u. s. department of justice is assembling a dedicated task force to go\n",
      "after\n",
      "\n",
      "madam speaker, madam vice president, our first lady and second\n",
      "gentleman. members of congress and the cabinet. justices of the supreme\n",
      "court. my fellow americans. last year covid - 19 kept us apart. this\n",
      "year we are finally together again. tonight, we meet as democrats,\n",
      "republicans, and independents. but most importantly as americans. with\n",
      "a duty to one another, to the american people, to the constitution. and\n",
      "with an unwavering resolve that freedom will always triumph over\n",
      "tyranny. six days ago, russia ’ s vladimir putin sought to shake the\n",
      "foundations of the free world, thinking he could make it bend to his\n",
      "menacing ways. but he badly miscalculated. he thought he could roll\n",
      "into ukraine and the world would roll over. instead, he met a wall of\n",
      "strength he never imagined. he met the ukrainian people. from president\n",
      "zelenskyy to every ukrainian, their fearlessness, their courage, their\n",
      "determination, inspires the world.\n",
      "\n",
      "american resolve matters. putin ’ s latest attack on ukrai ne was\n",
      "premeditated and unprovoked. he rejected repeated efforts at diplomacy.\n",
      "he thought the west and nato wouldn ’ t respond. and he thought he\n",
      "could divide us at home. putin was wrong. we were ready. here is what\n",
      "we did. we prepared extensively and carefully. we spent months building\n",
      "a coalition of other freedom - loving nations from europe and the\n",
      "americas to asia and africa to confront putin. i spent countless hours\n",
      "unifying our european allies. we shared with the world in advance what\n",
      "we knew putin was planning and precisely how he would try to falsely\n",
      "justify his aggression. we countered russia ’ s lies with truth. and\n",
      "now that he has acted, the free world is holding him accountable.\n",
      "\n",
      "----------------------------------------------------------------------------------------------------\n",
      "Query: - What specific products or services drove the highest revenue growth?\n",
      "\n",
      "Results:\n",
      "along with twenty - seven members of the european union, including\n",
      "france, germany, italy, as well as countries like the united kingdom,\n",
      "canada, japan, korea, australia, new zealand, and many others, even\n",
      "switzerland. we are inflicting pain on russia and sup porting the\n",
      "people of ukraine. putin is now isolated from the world more than ever.\n",
      "together with our allies, we are right now enforcing powerful economic\n",
      "sanctions. we are cutting off russia ’ s largest banks from the\n",
      "international financial system. preventing russia ’ s central bank from\n",
      "defending the russian ruble, making putin ’ s $ 630 bill ion “ war fund\n",
      "” worthless. we are choking off russia ’ s access to technology that\n",
      "will sap its economic strength and weaken its military for years to\n",
      "come. tonight i say to the russian oligarchs and corrupt leaders who\n",
      "have bilked billions of dollars off this violent regime : no more. the\n",
      "u. s. department of justice is assembling a dedicated task force to go\n",
      "after\n",
      "\n",
      "the crimes of russian oligarchs. we are joining with our european\n",
      "allies to find and seize your yachts, your luxury apartments, your\n",
      "private jets. we are coming for your ill - begotten gains. and tonight\n",
      "i am announcing that we will join our allies in closing off american\n",
      "airspace to all russian flights – further isolating russia – and adding\n",
      "an additional squeeze on their economy. the ruble has lost 30 % of its\n",
      "value. the russian stock market h as lost 40 % of its value and trading\n",
      "remains suspended. russia ’ s economy is reeling and putin alone is to\n",
      "blame. together with our allies, we are providing support to the\n",
      "ukrainians in their fight for freedom. military assistance. economic\n",
      "assistance. humanitarian assistance. we are giving more than $ 1\n",
      "billion in direct assistance to ukraine. and we will continue to aid\n",
      "the ukrainian people as they defend their country and to help ease\n",
      "their suffering.\n",
      "\n",
      "to all americans, i will be honest with you, as i ’ ve always promised.\n",
      "a russian dictator, invading a foreign country, has costs around the\n",
      "world. and i ’ m taking robust action to make sure the pain of our\n",
      "sanctions is targeted at russia ’ s economy. and i wil l use every tool\n",
      "at our disposal to protect american businesses and consumers. tonight,\n",
      "i can announce that the united states has worked with 30 other\n",
      "countries to release 60 million barrels of oil from reserves around the\n",
      "world. america will lead that effort, releasing 30 million barrels from\n",
      "our own strategic petroleum reserve. and we stand ready to do more if\n",
      "necessary, unified with our allies. these steps will help blunt gas\n",
      "prices here at home. and i know the news about what ’ s happening can\n",
      "seem alarming. but i want you to know that we are going to be okay.\n",
      "when the history of this era is written putin ’ s war on ukraine will\n",
      "have left russia weaker and the rest of\n",
      "\n",
      "madam speaker, madam vice president, our first lady and second\n",
      "gentleman. members of congress and the cabinet. justices of the supreme\n",
      "court. my fellow americans. last year covid - 19 kept us apart. this\n",
      "year we are finally together again. tonight, we meet as democrats,\n",
      "republicans, and independents. but most importantly as americans. with\n",
      "a duty to one another, to the american people, to the constitution. and\n",
      "with an unwavering resolve that freedom will always triumph over\n",
      "tyranny. six days ago, russia ’ s vladimir putin sought to shake the\n",
      "foundations of the free world, thinking he could make it bend to his\n",
      "menacing ways. but he badly miscalculated. he thought he could roll\n",
      "into ukraine and the world would roll over. instead, he met a wall of\n",
      "strength he never imagined. he met the ukrainian people. from president\n",
      "zelenskyy to every ukrainian, their fearlessness, their courage, their\n",
      "determination, inspires the world.\n",
      "\n",
      "we meet tonight in an america that has lived through two of the hardest\n",
      "years this nation has ever faced. the pandemic has been punishing.\n",
      "\n",
      "----------------------------------------------------------------------------------------------------\n",
      "Query: - Did changes in market conditions play a significant role in revenue increases?\n",
      "\n",
      "Results:\n",
      "the crimes of russian oligarchs. we are joining with our european\n",
      "allies to find and seize your yachts, your luxury apartments, your\n",
      "private jets. we are coming for your ill - begotten gains. and tonight\n",
      "i am announcing that we will join our allies in closing off american\n",
      "airspace to all russian flights – further isolating russia – and adding\n",
      "an additional squeeze on their economy. the ruble has lost 30 % of its\n",
      "value. the russian stock market h as lost 40 % of its value and trading\n",
      "remains suspended. russia ’ s economy is reeling and putin alone is to\n",
      "blame. together with our allies, we are providing support to the\n",
      "ukrainians in their fight for freedom. military assistance. economic\n",
      "assistance. humanitarian assistance. we are giving more than $ 1\n",
      "billion in direct assistance to ukraine. and we will continue to aid\n",
      "the ukrainian people as they defend their country and to help ease\n",
      "their suffering.\n",
      "\n",
      "to all americans, i will be honest with you, as i ’ ve always promised.\n",
      "a russian dictator, invading a foreign country, has costs around the\n",
      "world. and i ’ m taking robust action to make sure the pain of our\n",
      "sanctions is targeted at russia ’ s economy. and i wil l use every tool\n",
      "at our disposal to protect american businesses and consumers. tonight,\n",
      "i can announce that the united states has worked with 30 other\n",
      "countries to release 60 million barrels of oil from reserves around the\n",
      "world. america will lead that effort, releasing 30 million barrels from\n",
      "our own strategic petroleum reserve. and we stand ready to do more if\n",
      "necessary, unified with our allies. these steps will help blunt gas\n",
      "prices here at home. and i know the news about what ’ s happening can\n",
      "seem alarming. but i want you to know that we are going to be okay.\n",
      "when the history of this era is written putin ’ s war on ukraine will\n",
      "have left russia weaker and the rest of\n",
      "\n",
      "along with twenty - seven members of the european union, including\n",
      "france, germany, italy, as well as countries like the united kingdom,\n",
      "canada, japan, korea, australia, new zealand, and many others, even\n",
      "switzerland. we are inflicting pain on russia and sup porting the\n",
      "people of ukraine. putin is now isolated from the world more than ever.\n",
      "together with our allies, we are right now enforcing powerful economic\n",
      "sanctions. we are cutting off russia ’ s largest banks from the\n",
      "international financial system. preventing russia ’ s central bank from\n",
      "defending the russian ruble, making putin ’ s $ 630 bill ion “ war fund\n",
      "” worthless. we are choking off russia ’ s access to technology that\n",
      "will sap its economic strength and weaken its military for years to\n",
      "come. tonight i say to the russian oligarchs and corrupt leaders who\n",
      "have bilked billions of dollars off this violent regime : no more. the\n",
      "u. s. department of justice is assembling a dedicated task force to go\n",
      "after\n",
      "\n",
      "have repeatedly shown that they will not tolerate anyone who tries to\n",
      "take their country backward.\n",
      "\n",
      "we meet tonight in an america that has lived through two of the hardest\n",
      "years this nation has ever faced. the pandemic has been punishing.\n",
      "\n",
      "----------------------------------------------------------------------------------------------------\n",
      "Query: - How did pricing strategies impact revenue performance?\n",
      "\n",
      "Results:\n",
      "to all americans, i will be honest with you, as i ’ ve always promised.\n",
      "a russian dictator, invading a foreign country, has costs around the\n",
      "world. and i ’ m taking robust action to make sure the pain of our\n",
      "sanctions is targeted at russia ’ s economy. and i wil l use every tool\n",
      "at our disposal to protect american businesses and consumers. tonight,\n",
      "i can announce that the united states has worked with 30 other\n",
      "countries to release 60 million barrels of oil from reserves around the\n",
      "world. america will lead that effort, releasing 30 million barrels from\n",
      "our own strategic petroleum reserve. and we stand ready to do more if\n",
      "necessary, unified with our allies. these steps will help blunt gas\n",
      "prices here at home. and i know the news about what ’ s happening can\n",
      "seem alarming. but i want you to know that we are going to be okay.\n",
      "when the history of this era is written putin ’ s war on ukraine will\n",
      "have left russia weaker and the rest of\n",
      "\n",
      "the crimes of russian oligarchs. we are joining with our european\n",
      "allies to find and seize your yachts, your luxury apartments, your\n",
      "private jets. we are coming for your ill - begotten gains. and tonight\n",
      "i am announcing that we will join our allies in closing off american\n",
      "airspace to all russian flights – further isolating russia – and adding\n",
      "an additional squeeze on their economy. the ruble has lost 30 % of its\n",
      "value. the russian stock market h as lost 40 % of its value and trading\n",
      "remains suspended. russia ’ s economy is reeling and putin alone is to\n",
      "blame. together with our allies, we are providing support to the\n",
      "ukrainians in their fight for freedom. military assistance. economic\n",
      "assistance. humanitarian assistance. we are giving more than $ 1\n",
      "billion in direct assistance to ukraine. and we will continue to aid\n",
      "the ukrainian people as they defend their country and to help ease\n",
      "their suffering.\n",
      "\n",
      "along with twenty - seven members of the european union, including\n",
      "france, germany, italy, as well as countries like the united kingdom,\n",
      "canada, japan, korea, australia, new zealand, and many others, even\n",
      "switzerland. we are inflicting pain on russia and sup porting the\n",
      "people of ukraine. putin is now isolated from the world more than ever.\n",
      "together with our allies, we are right now enforcing powerful economic\n",
      "sanctions. we are cutting off russia ’ s largest banks from the\n",
      "international financial system. preventing russia ’ s central bank from\n",
      "defending the russian ruble, making putin ’ s $ 630 bill ion “ war fund\n",
      "” worthless. we are choking off russia ’ s access to technology that\n",
      "will sap its economic strength and weaken its military for years to\n",
      "come. tonight i say to the russian oligarchs and corrupt leaders who\n",
      "have bilked billions of dollars off this violent regime : no more. the\n",
      "u. s. department of justice is assembling a dedicated task force to go\n",
      "after\n",
      "\n",
      "american resolve matters. putin ’ s latest attack on ukrai ne was\n",
      "premeditated and unprovoked. he rejected repeated efforts at diplomacy.\n",
      "he thought the west and nato wouldn ’ t respond. and he thought he\n",
      "could divide us at home. putin was wrong. we were ready. here is what\n",
      "we did. we prepared extensively and carefully. we spent months building\n",
      "a coalition of other freedom - loving nations from europe and the\n",
      "americas to asia and africa to confront putin. i spent countless hours\n",
      "unifying our european allies. we shared with the world in advance what\n",
      "we knew putin was planning and precisely how he would try to falsely\n",
      "justify his aggression. we countered russia ’ s lies with truth. and\n",
      "now that he has acted, the free world is holding him accountable.\n",
      "\n",
      "let me be clear, our forces are not engaged and will not engage in\n",
      "conflict with russian forces in ukraine. our forces are not going to\n",
      "europe to fight in ukraine, but to defend our nato allies – in the\n",
      "event that putin decides to keep moving west. for tha t purpose, we ’\n",
      "ve mobilized american ground forces, air squadrons, and ship\n",
      "deployments to protect nato countries including poland, romania,\n",
      "latvia, lithuania, and estonia. as i have made crystal clear, the\n",
      "united states and our allies will defend every inch of territory of\n",
      "nato countries with the full force of our collective power. and we\n",
      "remain clear - eyed. the ukrainians are fighting back with pure\n",
      "courage. but the next few days, weeks, months, will be hard on them.\n",
      "putin has unleashed violence and chaos. but while he may make gains on\n",
      "the battlefield – he will pay a continuing high price over the long\n",
      "run. and a proud ukrainian people, who have known 30 years of\n",
      "independenc e,\n",
      "\n",
      "----------------------------------------------------------------------------------------------------\n",
      "Query: - What operational improvements contributed to cost savings and increased profitability?\n",
      "\n",
      "Results:\n",
      "to all americans, i will be honest with you, as i ’ ve always promised.\n",
      "a russian dictator, invading a foreign country, has costs around the\n",
      "world. and i ’ m taking robust action to make sure the pain of our\n",
      "sanctions is targeted at russia ’ s economy. and i wil l use every tool\n",
      "at our disposal to protect american businesses and consumers. tonight,\n",
      "i can announce that the united states has worked with 30 other\n",
      "countries to release 60 million barrels of oil from reserves around the\n",
      "world. america will lead that effort, releasing 30 million barrels from\n",
      "our own strategic petroleum reserve. and we stand ready to do more if\n",
      "necessary, unified with our allies. these steps will help blunt gas\n",
      "prices here at home. and i know the news about what ’ s happening can\n",
      "seem alarming. but i want you to know that we are going to be okay.\n",
      "when the history of this era is written putin ’ s war on ukraine will\n",
      "have left russia weaker and the rest of\n",
      "\n",
      "the crimes of russian oligarchs. we are joining with our european\n",
      "allies to find and seize your yachts, your luxury apartments, your\n",
      "private jets. we are coming for your ill - begotten gains. and tonight\n",
      "i am announcing that we will join our allies in closing off american\n",
      "airspace to all russian flights – further isolating russia – and adding\n",
      "an additional squeeze on their economy. the ruble has lost 30 % of its\n",
      "value. the russian stock market h as lost 40 % of its value and trading\n",
      "remains suspended. russia ’ s economy is reeling and putin alone is to\n",
      "blame. together with our allies, we are providing support to the\n",
      "ukrainians in their fight for freedom. military assistance. economic\n",
      "assistance. humanitarian assistance. we are giving more than $ 1\n",
      "billion in direct assistance to ukraine. and we will continue to aid\n",
      "the ukrainian people as they defend their country and to help ease\n",
      "their suffering.\n",
      "\n",
      "along with twenty - seven members of the european union, including\n",
      "france, germany, italy, as well as countries like the united kingdom,\n",
      "canada, japan, korea, australia, new zealand, and many others, even\n",
      "switzerland. we are inflicting pain on russia and sup porting the\n",
      "people of ukraine. putin is now isolated from the world more than ever.\n",
      "together with our allies, we are right now enforcing powerful economic\n",
      "sanctions. we are cutting off russia ’ s largest banks from the\n",
      "international financial system. preventing russia ’ s central bank from\n",
      "defending the russian ruble, making putin ’ s $ 630 bill ion “ war fund\n",
      "” worthless. we are choking off russia ’ s access to technology that\n",
      "will sap its economic strength and weaken its military for years to\n",
      "come. tonight i say to the russian oligarchs and corrupt leaders who\n",
      "have bilked billions of dollars off this violent regime : no more. the\n",
      "u. s. department of justice is assembling a dedicated task force to go\n",
      "after\n",
      "\n",
      "we meet tonight in an america that has lived through two of the hardest\n",
      "years this nation has ever faced. the pandemic has been punishing.\n",
      "\n",
      "let me be clear, our forces are not engaged and will not engage in\n",
      "conflict with russian forces in ukraine. our forces are not going to\n",
      "europe to fight in ukraine, but to defend our nato allies – in the\n",
      "event that putin decides to keep moving west. for tha t purpose, we ’\n",
      "ve mobilized american ground forces, air squadrons, and ship\n",
      "deployments to protect nato countries including poland, romania,\n",
      "latvia, lithuania, and estonia. as i have made crystal clear, the\n",
      "united states and our allies will defend every inch of territory of\n",
      "nato countries with the full force of our collective power. and we\n",
      "remain clear - eyed. the ukrainians are fighting back with pure\n",
      "courage. but the next few days, weeks, months, will be hard on them.\n",
      "putin has unleashed violence and chaos. but while he may make gains on\n",
      "the battlefield – he will pay a continuing high price over the long\n",
      "run. and a proud ukrainian people, who have known 30 years of\n",
      "independenc e,\n",
      "\n",
      "----------------------------------------------------------------------------------------------------\n"
     ]
    }
   ],
   "source": [
    "queries = [original_query] + augmented_queries\n",
    "results = chroma_collection.query(query_texts=queries, n_results=5, include=['documents', 'embeddings'])\n",
    "\n",
    "retrieved_documents = results['documents']\n",
    "\n",
    "# Deduplicate the retrieved documents\n",
    "unique_documents = set()\n",
    "for documents in retrieved_documents:\n",
    "    for document in documents:\n",
    "        unique_documents.add(document)\n",
    "\n",
    "for i, documents in enumerate(retrieved_documents):\n",
    "    print(f\"Query: {queries[i]}\")\n",
    "    print('')\n",
    "    print(\"Results:\")\n",
    "    for doc in documents:\n",
    "        print(word_wrap(doc))\n",
    "        print('')\n",
    "    print('-'*100)"
   ]
  },
  {
   "cell_type": "code",
   "execution_count": 45,
   "metadata": {},
   "outputs": [
    {
     "name": "stderr",
     "output_type": "stream",
     "text": [
      "100%|██████████| 1/1 [00:01<00:00,  1.13s/it]\n",
      "100%|██████████| 4/4 [00:05<00:00,  1.29s/it]\n"
     ]
    }
   ],
   "source": [
    "original_query_embedding = embedding_function([original_query])\n",
    "augmented_query_embeddings = embedding_function(augmented_queries)\n",
    "\n",
    "project_original_query = project_embeddings(original_query_embedding, umap_transform)\n",
    "project_augmented_queries = project_embeddings(augmented_query_embeddings, umap_transform)\n"
   ]
  },
  {
   "cell_type": "code",
   "execution_count": 46,
   "metadata": {},
   "outputs": [
    {
     "name": "stderr",
     "output_type": "stream",
     "text": [
      "100%|██████████| 25/25 [00:31<00:00,  1.25s/it]\n"
     ]
    }
   ],
   "source": [
    "result_embeddings = results['embeddings']\n",
    "result_embeddings = [item for sublist in result_embeddings for item in sublist]\n",
    "projected_result_embeddings = project_embeddings(result_embeddings, umap_transform)\n"
   ]
  },
  {
   "cell_type": "code",
   "execution_count": 47,
   "metadata": {},
   "outputs": [
    {
     "data": {
      "text/plain": [
       "(13.806181144714355, 18.8289888381958, 8.613110399246215, 13.427124166488648)"
      ]
     },
     "execution_count": 47,
     "metadata": {},
     "output_type": "execute_result"
    },
    {
     "data": {
      "image/png": "[encoded data removed]",
      "text/plain": [
       "<Figure size 640x480 with 1 Axes>"
      ]
     },
     "metadata": {},
     "output_type": "display_data"
    }
   ],
   "source": [
    "import matplotlib.pyplot as plt\n",
    "\n",
    "plt.figure()\n",
    "plt.scatter(projected_dataset_embeddings[:, 0], projected_dataset_embeddings[:, 1], s=10, color='gray')\n",
    "plt.scatter(project_augmented_queries[:, 0], project_augmented_queries[:, 1], s=150, marker='X', color='orange')\n",
    "plt.scatter(projected_result_embeddings[:, 0], projected_result_embeddings[:, 1], s=100, facecolors='none', edgecolors='g')\n",
    "plt.scatter(project_original_query[:, 0], project_original_query[:, 1], s=150, marker='X', color='r')\n",
    "\n",
    "plt.gca().set_aspect('equal', 'datalim')\n",
    "plt.title(f'{original_query}')\n",
    "plt.axis('off')"
   ]
  },
  {
   "cell_type": "markdown",
   "metadata": {},
   "source": [
    "# Cross Encoder re ranking"
   ]
  },
  {
   "cell_type": "code",
   "execution_count": 48,
   "metadata": {},
   "outputs": [
    {
     "name": "stdout",
     "output_type": "stream",
     "text": [
      "to all americans, i will be honest with you, as i ’ ve always promised.\n",
      "a russian dictator, invading a foreign country, has costs around the\n",
      "world. and i ’ m taking robust action to make sure the pain of our\n",
      "sanctions is targeted at russia ’ s economy. and i wil l use every tool\n",
      "at our disposal to protect american businesses and consumers. tonight,\n",
      "i can announce that the united states has worked with 30 other\n",
      "countries to release 60 million barrels of oil from reserves around the\n",
      "world. america will lead that effort, releasing 30 million barrels from\n",
      "our own strategic petroleum reserve. and we stand ready to do more if\n",
      "necessary, unified with our allies. these steps will help blunt gas\n",
      "prices here at home. and i know the news about what ’ s happening can\n",
      "seem alarming. but i want you to know that we are going to be okay.\n",
      "when the history of this era is written putin ’ s war on ukraine will\n",
      "have left russia weaker and the rest of\n",
      "\n",
      "along with twenty - seven members of the european union, including\n",
      "france, germany, italy, as well as countries like the united kingdom,\n",
      "canada, japan, korea, australia, new zealand, and many others, even\n",
      "switzerland. we are inflicting pain on russia and sup porting the\n",
      "people of ukraine. putin is now isolated from the world more than ever.\n",
      "together with our allies, we are right now enforcing powerful economic\n",
      "sanctions. we are cutting off russia ’ s largest banks from the\n",
      "international financial system. preventing russia ’ s central bank from\n",
      "defending the russian ruble, making putin ’ s $ 630 bill ion “ war fund\n",
      "” worthless. we are choking off russia ’ s access to technology that\n",
      "will sap its economic strength and weaken its military for years to\n",
      "come. tonight i say to the russian oligarchs and corrupt leaders who\n",
      "have bilked billions of dollars off this violent regime : no more. the\n",
      "u. s. department of justice is assembling a dedicated task force to go\n",
      "after\n",
      "\n",
      "the crimes of russian oligarchs. we are joining with our european\n",
      "allies to find and seize your yachts, your luxury apartments, your\n",
      "private jets. we are coming for your ill - begotten gains. and tonight\n",
      "i am announcing that we will join our allies in closing off american\n",
      "airspace to all russian flights – further isolating russia – and adding\n",
      "an additional squeeze on their economy. the ruble has lost 30 % of its\n",
      "value. the russian stock market h as lost 40 % of its value and trading\n",
      "remains suspended. russia ’ s economy is reeling and putin alone is to\n",
      "blame. together with our allies, we are providing support to the\n",
      "ukrainians in their fight for freedom. military assistance. economic\n",
      "assistance. humanitarian assistance. we are giving more than $ 1\n",
      "billion in direct assistance to ukraine. and we will continue to aid\n",
      "the ukrainian people as they defend their country and to help ease\n",
      "their suffering.\n",
      "\n",
      "we meet tonight in an america that has lived through two of the hardest\n",
      "years this nation has ever faced. the pandemic has been punishing.\n",
      "\n",
      "groups of citizens blocking tanks with their bodies. everyone from\n",
      "students to retirees, teachers turned soldiers defending their\n",
      "homeland. in this struggle, as president zelenskyy said in his speech\n",
      "to the european parliament, “ light will win over darknes s. ” the\n",
      "ukrainian ambassador to the united states is here tonight. let each of\n",
      "us here tonight in this chamber send an unmistakable signal to ukraine\n",
      "and to the world. please rise if you are able and show that, yes, we\n",
      "the united states of america stand with the ukrainian people.\n",
      "throughout our history, we ’ ve learned this lesson : when dictators do\n",
      "not pay a price for their aggression, they cause more chaos. they keep\n",
      "mov ing. and the costs and the threats to america and the world keep\n",
      "rising. that ’ s why the nato alliance was created to secure peace and\n",
      "stability in europe after world war 2. the united states is a member,\n",
      "along with 29 other nations. it matters. american diplomacy matters.\n",
      "\n",
      "the world stronger. while it shouldn ’ t have taken something so\n",
      "terrible for people around the world to see what ’ s at stake now\n",
      "everyone sees it clea rly. we see the unity among leaders of nations\n",
      "and a more unified europe a more unified west. and we see unity among\n",
      "the people who are gathering in cities in large crowds around the world\n",
      "even in russia to demonstrate their support for ukraine. in the battle\n",
      "between democracy and autocracy, democracies are rising to the moment,\n",
      "and the world is clearly choosing the side of peace and security. this\n",
      "is a real test. it ’ s going to take time. so let us continue to draw\n",
      "inspiration from the iron will o f the ukrainian people. to our fellow\n",
      "ukrainian americans who forge a deep bond that connects our two\n",
      "nations, we stand with you. putin may circle kyiv with tanks, but he\n",
      "will never gain the hearts and souls of the ukrainian people. he will\n",
      "never extinguis h their love of freedom. he will never weaken the\n",
      "resolve of the free world.\n",
      "\n",
      "let me be clear, our forces are not engaged and will not engage in\n",
      "conflict with russian forces in ukraine. our forces are not going to\n",
      "europe to fight in ukraine, but to defend our nato allies – in the\n",
      "event that putin decides to keep moving west. for tha t purpose, we ’\n",
      "ve mobilized american ground forces, air squadrons, and ship\n",
      "deployments to protect nato countries including poland, romania,\n",
      "latvia, lithuania, and estonia. as i have made crystal clear, the\n",
      "united states and our allies will defend every inch of territory of\n",
      "nato countries with the full force of our collective power. and we\n",
      "remain clear - eyed. the ukrainians are fighting back with pure\n",
      "courage. but the next few days, weeks, months, will be hard on them.\n",
      "putin has unleashed violence and chaos. but while he may make gains on\n",
      "the battlefield – he will pay a continuing high price over the long\n",
      "run. and a proud ukrainian people, who have known 30 years of\n",
      "independenc e,\n",
      "\n",
      "have repeatedly shown that they will not tolerate anyone who tries to\n",
      "take their country backward.\n",
      "\n",
      "american resolve matters. putin ’ s latest attack on ukrai ne was\n",
      "premeditated and unprovoked. he rejected repeated efforts at diplomacy.\n",
      "he thought the west and nato wouldn ’ t respond. and he thought he\n",
      "could divide us at home. putin was wrong. we were ready. here is what\n",
      "we did. we prepared extensively and carefully. we spent months building\n",
      "a coalition of other freedom - loving nations from europe and the\n",
      "americas to asia and africa to confront putin. i spent countless hours\n",
      "unifying our european allies. we shared with the world in advance what\n",
      "we knew putin was planning and precisely how he would try to falsely\n",
      "justify his aggression. we countered russia ’ s lies with truth. and\n",
      "now that he has acted, the free world is holding him accountable.\n",
      "\n",
      "madam speaker, madam vice president, our first lady and second\n",
      "gentleman. members of congress and the cabinet. justices of the supreme\n",
      "court. my fellow americans. last year covid - 19 kept us apart. this\n",
      "year we are finally together again. tonight, we meet as democrats,\n",
      "republicans, and independents. but most importantly as americans. with\n",
      "a duty to one another, to the american people, to the constitution. and\n",
      "with an unwavering resolve that freedom will always triumph over\n",
      "tyranny. six days ago, russia ’ s vladimir putin sought to shake the\n",
      "foundations of the free world, thinking he could make it bend to his\n",
      "menacing ways. but he badly miscalculated. he thought he could roll\n",
      "into ukraine and the world would roll over. instead, he met a wall of\n",
      "strength he never imagined. he met the ukrainian people. from president\n",
      "zelenskyy to every ukrainian, their fearlessness, their courage, their\n",
      "determination, inspires the world.\n",
      "\n"
     ]
    }
   ],
   "source": [
    "query = \"What has been the investment in research and development?\"\n",
    "results = chroma_collection.query(query_texts=query, n_results=10, include=['documents', 'embeddings'])\n",
    "\n",
    "retrieved_documents = results['documents'][0]\n",
    "\n",
    "for document in results['documents'][0]:\n",
    "    print(word_wrap(document))\n",
    "    print('')"
   ]
  },
  {
   "cell_type": "code",
   "execution_count": 49,
   "metadata": {},
   "outputs": [
    {
     "name": "stderr",
     "output_type": "stream",
     "text": [
      "/home/shuaib/.local/lib/python3.10/site-packages/transformers/tokenization_utils_base.py:1601: FutureWarning: `clean_up_tokenization_spaces` was not set. It will be set to `True` by default. This behavior will be depracted in transformers v4.45, and will be then set to `False` by default. For more details check this issue: https://github.com/huggingface/transformers/issues/31884\n",
      "  warnings.warn(\n"
     ]
    }
   ],
   "source": [
    "from sentence_transformers import CrossEncoder\n",
    "cross_encoder = CrossEncoder('cross-encoder/ms-marco-MiniLM-L-6-v2')    \n",
    "pairs = [[query, doc] for doc in retrieved_documents]\n",
    "scores = cross_encoder.predict(pairs)\n",
    "ranks = np.argsort(scores)[::-1] +1"
   ]
  },
  {
   "cell_type": "code",
   "execution_count": 50,
   "metadata": {},
   "outputs": [],
   "source": [
    "ranked_docs = {rank_num:doc for rank_num,doc in zip(ranks,retrieved_documents)}"
   ]
  },
  {
   "cell_type": "code",
   "execution_count": 51,
   "metadata": {},
   "outputs": [],
   "source": [
    "from typing import List\n",
    "from sentence_transformers import CrossEncoder\n",
    "cross_encoder = CrossEncoder('cross-encoder/ms-marco-MiniLM-L-6-v2')    \n",
    "def rank_documents(cross_encoder:CrossEncoder,query:str,retrieved_documents:List[str]):\n",
    "\n",
    "    pairs = [[query, doc] for doc in retrieved_documents]\n",
    "    scores = cross_encoder.predict(pairs)\n",
    "    ranks = np.argsort(scores)[::-1]\n",
    "    ranked_docs = {rank_num:doc for rank_num,doc in zip(ranks,retrieved_documents)}\n",
    "    return ranked_docs\n",
    "ranked_docs= rank_documents(cross_encoder,query,retrieved_documents)"
   ]
  },
  {
   "cell_type": "code",
   "execution_count": 52,
   "metadata": {},
   "outputs": [],
   "source": [
    "ranked_docs= rank_documents(cross_encoder,query,retrieved_documents)"
   ]
  },
  {
   "cell_type": "code",
   "execution_count": 53,
   "metadata": {},
   "outputs": [
    {
     "data": {
      "text/plain": [
       "{1: 'to all americans, i will be honest with you, as i ’ ve always promised. a russian dictator, invading a foreign country, has costs around the world. and i ’ m taking robust action to make sure the pain of our sanctions is targeted at russia ’ s economy. and i wil l use every tool at our disposal to protect american businesses and consumers. tonight, i can announce that the united states has worked with 30 other countries to release 60 million barrels of oil from reserves around the world. america will lead that effort, releasing 30 million barrels from our own strategic petroleum reserve. and we stand ready to do more if necessary, unified with our allies. these steps will help blunt gas prices here at home. and i know the news about what ’ s happening can seem alarming. but i want you to know that we are going to be okay. when the history of this era is written putin ’ s war on ukraine will have left russia weaker and the rest of',\n",
       " 2: 'along with twenty - seven members of the european union, including france, germany, italy, as well as countries like the united kingdom, canada, japan, korea, australia, new zealand, and many others, even switzerland. we are inflicting pain on russia and sup porting the people of ukraine. putin is now isolated from the world more than ever. together with our allies, we are right now enforcing powerful economic sanctions. we are cutting off russia ’ s largest banks from the international financial system. preventing russia ’ s central bank from defending the russian ruble, making putin ’ s $ 630 bill ion “ war fund ” worthless. we are choking off russia ’ s access to technology that will sap its economic strength and weaken its military for years to come. tonight i say to the russian oligarchs and corrupt leaders who have bilked billions of dollars off this violent regime : no more. the u. s. department of justice is assembling a dedicated task force to go after',\n",
       " 8: 'the crimes of russian oligarchs. we are joining with our european allies to find and seize your yachts, your luxury apartments, your private jets. we are coming for your ill - begotten gains. and tonight i am announcing that we will join our allies in closing off american airspace to all russian flights – further isolating russia – and adding an additional squeeze on their economy. the ruble has lost 30 % of its value. the russian stock market h as lost 40 % of its value and trading remains suspended. russia ’ s economy is reeling and putin alone is to blame. together with our allies, we are providing support to the ukrainians in their fight for freedom. military assistance. economic assistance. humanitarian assistance. we are giving more than $ 1 billion in direct assistance to ukraine. and we will continue to aid the ukrainian people as they defend their country and to help ease their suffering.',\n",
       " 6: 'we meet tonight in an america that has lived through two of the hardest years this nation has ever faced. the pandemic has been punishing.',\n",
       " 5: 'groups of citizens blocking tanks with their bodies. everyone from students to retirees, teachers turned soldiers defending their homeland. in this struggle, as president zelenskyy said in his speech to the european parliament, “ light will win over darknes s. ” the ukrainian ambassador to the united states is here tonight. let each of us here tonight in this chamber send an unmistakable signal to ukraine and to the world. please rise if you are able and show that, yes, we the united states of america stand with the ukrainian people. throughout our history, we ’ ve learned this lesson : when dictators do not pay a price for their aggression, they cause more chaos. they keep mov ing. and the costs and the threats to america and the world keep rising. that ’ s why the nato alliance was created to secure peace and stability in europe after world war 2. the united states is a member, along with 29 other nations. it matters. american diplomacy matters.',\n",
       " 0: 'the world stronger. while it shouldn ’ t have taken something so terrible for people around the world to see what ’ s at stake now everyone sees it clea rly. we see the unity among leaders of nations and a more unified europe a more unified west. and we see unity among the people who are gathering in cities in large crowds around the world even in russia to demonstrate their support for ukraine. in the battle between democracy and autocracy, democracies are rising to the moment, and the world is clearly choosing the side of peace and security. this is a real test. it ’ s going to take time. so let us continue to draw inspiration from the iron will o f the ukrainian people. to our fellow ukrainian americans who forge a deep bond that connects our two nations, we stand with you. putin may circle kyiv with tanks, but he will never gain the hearts and souls of the ukrainian people. he will never extinguis h their love of freedom. he will never weaken the resolve of the free world.',\n",
       " 4: 'let me be clear, our forces are not engaged and will not engage in conflict with russian forces in ukraine. our forces are not going to europe to fight in ukraine, but to defend our nato allies – in the event that putin decides to keep moving west. for tha t purpose, we ’ ve mobilized american ground forces, air squadrons, and ship deployments to protect nato countries including poland, romania, latvia, lithuania, and estonia. as i have made crystal clear, the united states and our allies will defend every inch of territory of nato countries with the full force of our collective power. and we remain clear - eyed. the ukrainians are fighting back with pure courage. but the next few days, weeks, months, will be hard on them. putin has unleashed violence and chaos. but while he may make gains on the battlefield – he will pay a continuing high price over the long run. and a proud ukrainian people, who have known 30 years of independenc e,',\n",
       " 9: 'have repeatedly shown that they will not tolerate anyone who tries to take their country backward.',\n",
       " 3: 'american resolve matters. putin ’ s latest attack on ukrai ne was premeditated and unprovoked. he rejected repeated efforts at diplomacy. he thought the west and nato wouldn ’ t respond. and he thought he could divide us at home. putin was wrong. we were ready. here is what we did. we prepared extensively and carefully. we spent months building a coalition of other freedom - loving nations from europe and the americas to asia and africa to confront putin. i spent countless hours unifying our european allies. we shared with the world in advance what we knew putin was planning and precisely how he would try to falsely justify his aggression. we countered russia ’ s lies with truth. and now that he has acted, the free world is holding him accountable.',\n",
       " 7: 'madam speaker, madam vice president, our first lady and second gentleman. members of congress and the cabinet. justices of the supreme court. my fellow americans. last year covid - 19 kept us apart. this year we are finally together again. tonight, we meet as democrats, republicans, and independents. but most importantly as americans. with a duty to one another, to the american people, to the constitution. and with an unwavering resolve that freedom will always triumph over tyranny. six days ago, russia ’ s vladimir putin sought to shake the foundations of the free world, thinking he could make it bend to his menacing ways. but he badly miscalculated. he thought he could roll into ukraine and the world would roll over. instead, he met a wall of strength he never imagined. he met the ukrainian people. from president zelenskyy to every ukrainian, their fearlessness, their courage, their determination, inspires the world.'}"
      ]
     },
     "execution_count": 53,
     "metadata": {},
     "output_type": "execute_result"
    }
   ],
   "source": [
    "ranked_docs"
   ]
  }
 ],
 "metadata": {
  "kernelspec": {
   "display_name": "Python 3",
   "language": "python",
   "name": "python3"
  },
  "language_info": {
   "codemirror_mode": {
    "name": "ipython",
    "version": 3
   },
   "file_extension": ".py",
   "mimetype": "text/x-python",
   "name": "python",
   "nbconvert_exporter": "python",
   "pygments_lexer": "ipython3",
   "version": "3.10.12"
  }
 },
 "nbformat": 4,
 "nbformat_minor": 2
}
